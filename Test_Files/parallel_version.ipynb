{
 "cells": [
  {
   "cell_type": "markdown",
   "metadata": {},
   "source": [
    "# Cell 1: Import Libraries"
   ]
  },
  {
   "cell_type": "code",
   "execution_count": null,
   "metadata": {},
   "outputs": [],
   "source": [
    "import os\n",
    "from datetime import datetime\n",
    "import numpy as np\n",
    "import pandas as pd\n",
    "from umap import UMAP\n",
    "from hdbscan import HDBSCAN\n",
    "import matplotlib.pyplot as plt\n",
    "import time\n"
   ]
  },
  {
   "cell_type": "markdown",
   "metadata": {},
   "source": [
    "# Cell 2: Set Enviorment Variables"
   ]
  },
  {
   "cell_type": "code",
   "execution_count": null,
   "metadata": {},
   "outputs": [],
   "source": [
    "# Environment Variables\n",
    "FILESPATH = os.environ.get(\"FILESPATH\", \"/home/tulipan16372/storage_NAS/Misc/Dani_Amaya/sentence-transformers/\")\n",
    "ABSTRACTS_NAME = os.environ.get(\"FILE_NAME\", \"abstracts.parquet\")\n",
    "EMBEDDINGS_NAME = os.environ.get(\"EMBEDDINGS_NAME\", \"Matt_embeddings.npy\")\n",
    "REDUCED_EMBEDDINGS_NAME = os.environ.get(\"REDUCED_EMBEDDINGS_NAME\", \"reduces_embeddings.npy\")\n",
    "CLUSTERS_DATAFRAME_NAME = os.environ.get(\"CLUSTERS_DATAFRAME_NAME\", \"df_cluster.csv\")\n"
   ]
  },
  {
   "cell_type": "markdown",
   "metadata": {},
   "source": [
    "# Cell 3: Load Data"
   ]
  },
  {
   "cell_type": "code",
   "execution_count": null,
   "metadata": {},
   "outputs": [],
   "source": [
    "# Load Data\n",
    "current_date = datetime.now().strftime(\"%Y%m%d\")\n",
    "renamed_file_path = os.path.join(FILESPATH, f\"{current_date}_Matt_renamed_{ABSTRACTS_NAME}\")\n",
    "embeddings_path = os.path.join(FILESPATH, f\"{current_date}_{EMBEDDINGS_NAME}\")\n",
    "embeddings = np.load(embeddings_path, allow_pickle=True)\n",
    "\n",
    "print(f\"Embeddings shape: {embeddings.shape}\")\n",
    "\n",
    "# Add noise to the embeddings to aid spectral initialization\n",
    "noise = np.random.normal(loc=0, scale=0.01, size=embeddings.shape)\n",
    "noisy_embeddings = embeddings + noise\n"
   ]
  },
  {
   "cell_type": "markdown",
   "metadata": {},
   "source": [
    "# Cell 4: Add Noise to Embeddings"
   ]
  },
  {
   "cell_type": "code",
   "execution_count": null,
   "metadata": {},
   "outputs": [],
   "source": [
    "# Measure execution time\n",
    "start_time = time.time()\n",
    "\n",
    "# UMAP Projection in parallel\n",
    "umap_model = UMAP(n_neighbors=15, n_components=2, min_dist=0.0, metric='cosine', init='random', n_jobs=-1)\n",
    "reduced_embeddings = umap_model.fit_transform(noisy_embeddings)\n",
    "\n",
    "# Save reduced embeddings\n",
    "np.save(f\"{FILESPATH}{current_date}_Matt_{REDUCED_EMBEDDINGS_NAME}\", reduced_embeddings)\n"
   ]
  },
  {
   "cell_type": "markdown",
   "metadata": {},
   "source": [
    "# Cell 5: UMAP Projection and Visualization"
   ]
  },
  {
   "cell_type": "code",
   "execution_count": null,
   "metadata": {},
   "outputs": [],
   "source": [
    "# Label the clustering\n",
    "df_cluster = pd.DataFrame(reduced_embeddings, columns=[\"umap_x\", \"umap_y\"])\n",
    "\n",
    "# HDBSCAN Clustering\n",
    "hdbscan_model = HDBSCAN(min_cluster_size=300, min_samples=50, metric='euclidean', cluster_selection_method='eom', prediction_data=True)\n",
    "hdbscan_model.fit(df_cluster[['umap_x', 'umap_y']])\n",
    "print('clusterer labels shape:', hdbscan_model.labels_.shape)\n",
    "\n",
    "# Label the clusters on df_cluster\n",
    "df_cluster['cluster'] = hdbscan_model.labels_\n",
    "print('num clusters:', df_cluster['cluster'].nunique())\n"
   ]
  },
  {
   "cell_type": "markdown",
   "metadata": {},
   "source": [
    "# Cell 6: HDBSCAN Clustering"
   ]
  },
  {
   "cell_type": "code",
   "execution_count": null,
   "metadata": {},
   "outputs": [],
   "source": [
    "# Add documents to dataframe with clustering\n",
    "df_abstracts = pd.read_parquet(renamed_file_path, engine='pyarrow')\n",
    "print(\"Column names in the loaded DataFrame:\", df_abstracts.columns)\n",
    "\n",
    "# Ensure the column name is 'sentences'\n",
    "if 'sentences' in df_abstracts.columns:\n",
    "    abstracts = df_abstracts['sentences'].tolist()\n",
    "else:\n",
    "    print(\"DataFrame contents:\")\n",
    "    print(df_abstracts.head())\n",
    "    raise KeyError(\"The column 'sentences' does not exist in the DataFrame\")\n",
    "\n",
    "df_cluster[\"documents\"] = abstracts[:len(df_cluster)]\n",
    "\n",
    "# Save df_cluster\n",
    "df_cluster.to_csv(f\"{FILESPATH}{current_date}_Matt_{CLUSTERS_DATAFRAME_NAME}\", index=False)\n"
   ]
  },
  {
   "cell_type": "markdown",
   "metadata": {},
   "source": [
    "# Cell 7: Visualize Clusters"
   ]
  },
  {
   "cell_type": "code",
   "execution_count": null,
   "metadata": {},
   "outputs": [],
   "source": [
    "# Create a column to hold the vector embeddings as strings for hover info\n",
    "df_cluster['embedding_str'] = noisy_embeddings.tolist()  # Convert numpy array to list\n",
    "\n",
    "# Plotly interactive scatter plot\n",
    "fig = px.scatter(\n",
    "    df_cluster,\n",
    "    x='umap_x',\n",
    "    y='umap_y',\n",
    "    color='cluster',\n",
    "    hover_data={\n",
    "        'embedding_str': True,\n",
    "        'documents': True,\n",
    "        'umap_x': False,\n",
    "        'umap_y': False,\n",
    "        'cluster': False\n",
    "    },\n",
    "    title='HDBSCAN Clusters'\n",
    ")\n",
    "\n",
    "# Customize the layout\n",
    "fig.update_layout(\n",
    "    xaxis_title='UMAP1',\n",
    "    yaxis_title='UMAP2',\n",
    "    width=1000,\n",
    "    height=700\n",
    ")\n",
    "\n",
    "# Show the interactive plot\n",
    "fig.show()\n",
    "\n",
    "end_time = time.time()\n",
    "print(f\"Parallel version execution time: {end_time - start_time} seconds\")\n"
   ]
  },
  {
   "cell_type": "markdown",
   "metadata": {},
   "source": [
    "# Cell 8: Add Documents and Save CLuster Data"
   ]
  },
  {
   "cell_type": "code",
   "execution_count": null,
   "metadata": {},
   "outputs": [],
   "source": [
    "df_abstracts = pd.read_parquet(renamed_file_path, engine='pyarrow')\n",
    "print(\"Column names in the loaded DataFrame:\", df_abstracts.columns)\n",
    "\n",
    "# Ensure the column name is 'sentences'\n",
    "if 'sentences' in df_abstracts.columns:\n",
    "    abstracts = df_abstracts['sentences'].tolist()\n",
    "else:\n",
    "    print(\"DataFrame contents:\")\n",
    "    print(df_abstracts.head())\n",
    "    raise KeyError(\"The column 'sentences' does not exist in the DataFrame\")\n",
    "\n",
    "df_cluster[\"documents\"] = abstracts[:len(df_cluster)]\n",
    "\n",
    "# Save df_cluster\n",
    "df_cluster.to_csv(f\"{FILESPATH}{current_date}_Matt_{CLUSTERS_DATAFRAME_NAME}\", index=False)\n"
   ]
  },
  {
   "cell_type": "markdown",
   "metadata": {},
   "source": [
    "# Cell 9: Execution Time"
   ]
  },
  {
   "cell_type": "code",
   "execution_count": null,
   "metadata": {},
   "outputs": [],
   "source": [
    "end_time = time.time()\n",
    "print(f\"Parallel version execution time: {end_time - start_time} seconds\")\n"
   ]
  },
  {
   "cell_type": "code",
   "execution_count": null,
   "metadata": {},
   "outputs": [],
   "source": []
  },
  {
   "cell_type": "code",
   "execution_count": null,
   "metadata": {},
   "outputs": [],
   "source": []
  }
 ],
 "metadata": {
  "kernelspec": {
   "display_name": "new_env",
   "language": "python",
   "name": "python3"
  },
  "language_info": {
   "codemirror_mode": {
    "name": "ipython",
    "version": 3
   },
   "file_extension": ".py",
   "mimetype": "text/x-python",
   "name": "python",
   "nbconvert_exporter": "python",
   "pygments_lexer": "ipython3",
   "version": "3.10.14"
  }
 },
 "nbformat": 4,
 "nbformat_minor": 2
}
