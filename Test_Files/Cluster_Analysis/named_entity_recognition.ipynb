{
 "cells": [
  {
   "cell_type": "markdown",
   "metadata": {},
   "source": [
    "# Named Entity Recognition Method (NER)"
   ]
  },
  {
   "cell_type": "markdown",
   "metadata": {},
   "source": [
    "# Cell 1: Import Libraries"
   ]
  },
  {
   "cell_type": "code",
   "execution_count": null,
   "metadata": {},
   "outputs": [],
   "source": [
    "import os\n",
    "from datetime import datetime\n",
    "import pandas as pd\n",
    "from transformers import pipeline\n",
    "from collections import Counter\n"
   ]
  },
  {
   "cell_type": "markdown",
   "metadata": {},
   "source": [
    "# Cell 2: Set Enviorment Variables"
   ]
  },
  {
   "cell_type": "code",
   "execution_count": null,
   "metadata": {},
   "outputs": [],
   "source": [
    "FILESPATH = \"/home/tulipan16372/storage_NAS/Misc/Dani_Amaya/sentence-transformers/\"\n",
    "CLUSTERS_DATAFRAME_NAME = \"20240820_Matt_df_cluster.csv\"\n"
   ]
  },
  {
   "cell_type": "markdown",
   "metadata": {},
   "source": [
    "# Cell 3: Load the Cluster DataFrame Containing the Documents and Cluster Assignments"
   ]
  },
  {
   "cell_type": "code",
   "execution_count": null,
   "metadata": {},
   "outputs": [],
   "source": [
    "df_cluster_path = os.path.join(FILESPATH, CLUSTERS_DATAFRAME_NAME)\n",
    "df_cluster = pd.read_csv(df_cluster_path)\n",
    "\n",
    "# Display the first few rows of the DataFrame to understand its structure\n",
    "df_cluster.head()\n"
   ]
  },
  {
   "cell_type": "markdown",
   "metadata": {},
   "source": [
    "# Cell 4: Initialize the Named Entity Recognition Model from Hugging Face Transformers"
   ]
  },
  {
   "cell_type": "code",
   "execution_count": null,
   "metadata": {},
   "outputs": [],
   "source": [
    "# Load the named entity recognition pipeline from Hugging Face\n",
    "ner_pipeline = pipeline(\"ner\")\n"
   ]
  },
  {
   "cell_type": "markdown",
   "metadata": {},
   "source": [
    "# Cell 5: Define Function to Extract Entities for a Specific Cluster"
   ]
  },
  {
   "cell_type": "code",
   "execution_count": null,
   "metadata": {},
   "outputs": [],
   "source": [
    "def extract_entities(documents):\n",
    "    # Extract named entities from the documents\n",
    "    entities = []\n",
    "    for doc in documents:\n",
    "        ner_results = ner_pipeline(doc)\n",
    "        # Filter for high-confidence entities\n",
    "        entities.extend([entity['word'] for entity in ner_results if entity['score'] > 0.9])\n",
    "    \n",
    "    # Get the most common entities\n",
    "    return Counter(entities).most_common(10)\n"
   ]
  },
  {
   "cell_type": "markdown",
   "metadata": {},
   "source": [
    "# Cell 6: Extract and Display Entities for a Specific Cluster"
   ]
  },
  {
   "cell_type": "code",
   "execution_count": null,
   "metadata": {},
   "outputs": [],
   "source": [
    "# Specify which cluster number you want to analyze\n",
    "cluster_number = 0  # Example: Cluster 0\n",
    "\n",
    "# Get the documents belonging to the specified cluster, and remove NaN values\n",
    "documents_in_cluster = df_cluster[df_cluster['cluster'] == cluster_number]['documents'].dropna().tolist()\n",
    "\n",
    "# Extract entities from the documents in this cluster\n",
    "top_entities = extract_entities(documents_in_cluster)\n",
    "\n",
    "# Display the top entities\n",
    "print(f\"Top Entities in Cluster {cluster_number}: {top_entities}\")\n"
   ]
  },
  {
   "cell_type": "markdown",
   "metadata": {},
   "source": [
    "# Cell 7: Extract and Display Entities for All Clusters"
   ]
  },
  {
   "cell_type": "code",
   "execution_count": null,
   "metadata": {},
   "outputs": [],
   "source": [
    "# Extract and display the top entities for all clusters\n",
    "for cluster in df_cluster['cluster'].unique():\n",
    "    print(f\"\\nCluster {cluster}:\")\n",
    "    \n",
    "    # Get the documents belonging to the specified cluster, and remove NaN values\n",
    "    documents_in_cluster = df_cluster[df_cluster['cluster'] == cluster]['documents'].dropna().tolist()\n",
    "    \n",
    "    # Extract entities from the documents in this cluster\n",
    "    top_entities = extract_entities(documents_in_cluster)\n",
    "    \n",
    "    # Display the top entities\n",
    "    print(f\"Top Entities: {top_entities}\")\n"
   ]
  }
 ],
 "metadata": {
  "language_info": {
   "name": "python"
  }
 },
 "nbformat": 4,
 "nbformat_minor": 2
}
