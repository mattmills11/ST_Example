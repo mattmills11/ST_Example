{
 "cells": [
  {
   "cell_type": "markdown",
   "metadata": {},
   "source": [
    "### This file is being used to change the HDBSCAN parameters and visualizing how those changes affect the shape / location of embeddings / clusters."
   ]
  },
  {
   "cell_type": "markdown",
   "metadata": {},
   "source": [
    "# Cell 1: Import Libraries"
   ]
  },
  {
   "cell_type": "code",
   "execution_count": null,
   "metadata": {},
   "outputs": [],
   "source": [
    "import os\n",
    "from datetime import datetime\n",
    "import numpy as np\n",
    "import pandas as pd\n",
    "import matplotlib.pyplot as plt\n",
    "from umap import UMAP\n",
    "from hdbscan import HDBSCAN\n",
    "import time\n"
   ]
  },
  {
   "cell_type": "markdown",
   "metadata": {},
   "source": [
    "# Cell 3: Set Environment Variables"
   ]
  },
  {
   "cell_type": "code",
   "execution_count": null,
   "metadata": {},
   "outputs": [],
   "source": [
    "FILESPATH = os.environ.get(\"FILESPATH\", \"/home/tulipan16372/storage_NAS/Misc/Dani_Amaya/sentence-transformers/\")\n",
    "ABSTRACTS_NAME = os.environ.get(\"FILE_NAME\", \"abstracts.parquet\")\n",
    "EMBEDDINGS_NAME = os.environ.get(\"EMBEDDINGS_NAME\", \"Matt_embeddings.npy\")\n",
    "REDUCED_EMBEDDINGS_NAME = os.environ.get(\"REDUCED_EMBEDDINGS_NAME\", \"reduces_embeddings.npy\")\n",
    "CLUSTERS_DATAFRAME_NAME = os.environ.get(\"CLUSTERS_DATAFRAME_NAME\", \"df_cluster.csv\")\n"
   ]
  },
  {
   "cell_type": "markdown",
   "metadata": {},
   "source": [
    "# Cell 5: Load the Embeddings Data\n"
   ]
  },
  {
   "cell_type": "code",
   "execution_count": null,
   "metadata": {},
   "outputs": [],
   "source": [
    "current_date = datetime.now().strftime(\"%Y%m%d\")\n",
    "embeddings_path = os.path.join(FILESPATH, f\"{current_date}_{EMBEDDINGS_NAME}\")\n",
    "embeddings = np.load(embeddings_path, allow_pickle=True)\n",
    "\n",
    "print(f\"Embeddings shape: {embeddings.shape}\")\n"
   ]
  },
  {
   "cell_type": "markdown",
   "metadata": {},
   "source": [
    "# Cell 6: UMAP Projection"
   ]
  },
  {
   "cell_type": "code",
   "execution_count": null,
   "metadata": {},
   "outputs": [],
   "source": [
    "umap_model = UMAP(n_neighbors=15, n_components=2, min_dist=0.0, metric='cosine', init='random', n_jobs=-1)\n",
    "reduced_embeddings = umap_model.fit_transform(embeddings)\n",
    "\n",
    "# Visualize UMAP projection\n",
    "plt.figure(figsize=(10, 7))\n",
    "plt.scatter(reduced_embeddings[:, 0], reduced_embeddings[:, 1], s=5, cmap='Spectral')\n",
    "plt.title(\"UMAP Projection\")\n",
    "plt.show()\n"
   ]
  },
  {
   "cell_type": "markdown",
   "metadata": {},
   "source": [
    "# Cell 7: HDBSCAN Parameter Exploration\n"
   ]
  },
  {
   "cell_type": "code",
   "execution_count": null,
   "metadata": {},
   "outputs": [],
   "source": [
    "# Initial HDBSCAN parameters\n",
    "min_cluster_size = 300\n",
    "min_samples = 50\n",
    "\n",
    "# HDBSCAN Clustering\n",
    "hdbscan_model = HDBSCAN(min_cluster_size=min_cluster_size, min_samples=min_samples, metric='euclidean', cluster_selection_method='eom', prediction_data=True)\n",
    "hdbscan_model.fit(reduced_embeddings)\n",
    "\n",
    "# Plot HDBSCAN clusters\n",
    "plt.figure(figsize=(10, 7))\n",
    "plt.scatter(reduced_embeddings[:, 0], reduced_embeddings[:, 1], c=hdbscan_model.labels_, cmap='Spectral', s=5)\n",
    "plt.colorbar()\n",
    "plt.title(f\"HDBSCAN Clustering (min_cluster_size={min_cluster_size}, min_samples={min_samples})\")\n",
    "plt.show()\n",
    "\n",
    "# Print cluster information\n",
    "print(f\"Number of clusters found: {len(set(hdbscan_model.labels_))}\")\n"
   ]
  },
  {
   "cell_type": "markdown",
   "metadata": {},
   "source": [
    "# Cell 8: Experiment with HDBSCAN Parameters\n"
   ]
  },
  {
   "cell_type": "code",
   "execution_count": null,
   "metadata": {},
   "outputs": [],
   "source": [
    "# Change parameters to explore different clustering results\n",
    "min_cluster_size = 100  # Adjust this value\n",
    "min_samples = 20  # Adjust this value\n",
    "\n",
    "# Re-run HDBSCAN with new parameters\n",
    "hdbscan_model = HDBSCAN(min_cluster_size=min_cluster_size, min_samples=min_samples, metric='euclidean', cluster_selection_method='eom', prediction_data=True)\n",
    "hdbscan_model.fit(reduced_embeddings)\n",
    "\n",
    "# Plot the clusters\n",
    "plt.figure(figsize=(10, 7))\n",
    "plt.scatter(reduced_embeddings[:, 0], reduced_embeddings[:, 1], c=hdbscan_model.labels_, cmap='Spectral', s=5)\n",
    "plt.colorbar()\n",
    "plt.title(f\"HDBSCAN Clustering (min_cluster_size={min_cluster_size}, min_samples={min_samples})\")\n",
    "plt.show()\n",
    "\n",
    "# Print cluster information\n",
    "print(f\"Number of clusters found: {len(set(hdbscan_model.labels_))}\")\n"
   ]
  },
  {
   "cell_type": "markdown",
   "metadata": {},
   "source": [
    "# Cell 9: Further Exploration of HDBSCAN Parameters\n"
   ]
  },
  {
   "cell_type": "code",
   "execution_count": null,
   "metadata": {},
   "outputs": [],
   "source": [
    "# Cell 14: Further Exploration Code\n",
    "param_combinations = [\n",
    "    (300, 50),\n",
    "    (200, 30),\n",
    "    (150, 10),\n",
    "    (50, 5)\n",
    "]\n",
    "\n",
    "for min_cluster_size, min_samples in param_combinations:\n",
    "    # Fit HDBSCAN with the specified parameters\n",
    "    hdbscan_model = HDBSCAN(min_cluster_size=min_cluster_size, min_samples=min_samples, metric='euclidean', cluster_selection_method='eom', prediction_data=True)\n",
    "    hdbscan_model.fit(reduced_embeddings)\n",
    "    \n",
    "    # Plot the clusters for this combination\n",
    "    plt.figure(figsize=(10, 7))\n",
    "    plt.scatter(reduced_embeddings[:, 0], reduced_embeddings[:, 1], c=hdbscan_model.labels_, cmap='Spectral', s=5)\n",
    "    plt.colorbar()\n",
    "    plt.title(f\"HDBSCAN Clustering (min_cluster_size={min_cluster_size}, min_samples={min_samples})\")\n",
    "    plt.show()\n",
    "\n",
    "    # Print cluster info\n",
    "    print(f\"min_cluster_size={min_cluster_size}, min_samples={min_samples}\")\n",
    "    print(f\"Number of clusters found: {len(set(hdbscan_model.labels_))}\")\n"
   ]
  }
 ],
 "metadata": {
  "language_info": {
   "name": "python"
  }
 },
 "nbformat": 4,
 "nbformat_minor": 2
}
