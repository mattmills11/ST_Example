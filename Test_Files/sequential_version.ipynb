{
 "cells": [
  {
   "cell_type": "markdown",
   "metadata": {},
   "source": [
    "# Cell 1: Import Main Libraries"
   ]
  },
  {
   "cell_type": "code",
   "execution_count": null,
   "metadata": {},
   "outputs": [],
   "source": [
    "import os\n",
    "from datetime import datetime\n",
    "import numpy as np\n",
    "import pandas as pd\n",
    "from umap import UMAP\n",
    "from hdbscan import HDBSCAN\n",
    "import plotly.express as px\n",
    "import time\n"
   ]
  },
  {
   "cell_type": "markdown",
   "metadata": {},
   "source": [
    "# Cell 2: Set Enviorment Variables"
   ]
  },
  {
   "cell_type": "code",
   "execution_count": null,
   "metadata": {},
   "outputs": [],
   "source": [
    "FILESPATH = os.environ.get(\"FILESPATH\", \"/home/tulipan16372/storage_NAS/Misc/Dani_Amaya/sentence-transformers/\")\n",
    "ABSTRACTS_NAME = os.environ.get(\"FILE_NAME\", \"abstracts.parquet\")\n",
    "EMBEDDINGS_NAME = os.environ.get(\"EMBEDDINGS_NAME\", \"Matt_embeddings.npy\")\n",
    "REDUCED_EMBEDDINGS_NAME = os.environ.get(\"REDUCED_EMBEDDINGS_NAME\", \"reduces_embeddings.npy\")\n",
    "CLUSTERS_DATAFRAME_NAME = os.environ.get(\"CLUSTERS_DATAFRAME_NAME\", \"df_cluster.csv\")\n"
   ]
  },
  {
   "cell_type": "markdown",
   "metadata": {},
   "source": [
    "# Cell 3: Load Data"
   ]
  },
  {
   "cell_type": "code",
   "execution_count": null,
   "metadata": {},
   "outputs": [],
   "source": [
    "current_date = datetime.now().strftime(\"%Y%m%d\")\n",
    "embeddings_path = os.path.join(FILESPATH, f\"{current_date}_{EMBEDDINGS_NAME}\")\n",
    "embeddings = np.load(embeddings_path, allow_pickle=True)\n",
    "print(f\"Embeddings shape: {embeddings.shape}\")\n"
   ]
  },
  {
   "cell_type": "markdown",
   "metadata": {},
   "source": [
    "# Cell 4: Add Noise to Embeddings and Perform UMAP Projection"
   ]
  },
  {
   "cell_type": "code",
   "execution_count": null,
   "metadata": {},
   "outputs": [],
   "source": [
    "# Add noise to the embeddings to aid spectral initialization\n",
    "noise = np.random.normal(loc=0, scale=0.01, size=embeddings.shape)\n",
    "noisy_embeddings = embeddings + noise\n",
    "\n",
    "# UMAP Projection to reduce embeddings to 2D space\n",
    "umap_model = UMAP(n_neighbors=15, n_components=2, min_dist=0.0, metric='cosine', init='random', n_jobs=1)\n",
    "reduced_embeddings = umap_model.fit_transform(noisy_embeddings)\n",
    "\n",
    "# Convert reduced embeddings to DataFrame\n",
    "df_cluster = pd.DataFrame(reduced_embeddings, columns=[\"umap_x\", \"umap_y\"])\n",
    "print(\"Reduced Embeddings Shape:\", df_cluster.shape)\n"
   ]
  },
  {
   "cell_type": "markdown",
   "metadata": {},
   "source": [
    "# Cell 5: Perform HDBSCAN CLustering"
   ]
  },
  {
   "cell_type": "code",
   "execution_count": null,
   "metadata": {},
   "outputs": [],
   "source": [
    "# HDBSCAN Clustering\n",
    "hdbscan_model = HDBSCAN(min_cluster_size=300, min_samples=50, metric='euclidean', cluster_selection_method='eom', prediction_data=True)\n",
    "hdbscan_model.fit(df_cluster[['umap_x', 'umap_y']])\n",
    "\n",
    "# Add cluster labels to the DataFrame\n",
    "df_cluster['cluster'] = hdbscan_model.labels_\n",
    "print(\"Number of clusters:\", df_cluster['cluster'].nunique())\n"
   ]
  },
  {
   "cell_type": "markdown",
   "metadata": {},
   "source": [
    "# Cell 6: Load Abstract Data and Match Documents with Clusters"
   ]
  },
  {
   "cell_type": "code",
   "execution_count": null,
   "metadata": {},
   "outputs": [],
   "source": [
    "# Load the renamed abstracts data\n",
    "renamed_file_path = os.path.join(FILESPATH, f\"{current_date}_Matt_renamed_{ABSTRACTS_NAME}\")\n",
    "df_abstracts = pd.read_parquet(renamed_file_path, engine='pyarrow')\n",
    "\n",
    "# Ensure the column name is 'sentences'\n",
    "if 'sentences' in df_abstracts.columns:\n",
    "    abstracts = df_abstracts['sentences'].tolist()\n",
    "else:\n",
    "    raise KeyError(\"The column 'sentences' does not exist in the DataFrame\")\n",
    "\n",
    "# Add documents to df_cluster\n",
    "df_cluster[\"documents\"] = abstracts[:len(df_cluster)]\n",
    "print(\"df_cluster with documents\", df_cluster.head())\n"
   ]
  },
  {
   "cell_type": "markdown",
   "metadata": {},
   "source": [
    "# Cell 7: Create Interative Plot with Plotly"
   ]
  },
  {
   "cell_type": "code",
   "execution_count": null,
   "metadata": {},
   "outputs": [],
   "source": [
    "# Create an interactive scatter plot with Plotly\n",
    "fig = px.scatter(\n",
    "    df_cluster, \n",
    "    x='umap_x', \n",
    "    y='umap_y', \n",
    "    color='cluster',\n",
    "    hover_data=['documents'],  # This will show the document when you hover over a point\n",
    "    title=\"UMAP Projection with HDBSCAN Clusters\"\n",
    ")\n",
    "\n",
    "# Show interactive plot\n",
    "fig.show()\n"
   ]
  }
 ],
 "metadata": {
  "kernelspec": {
   "display_name": "new_env",
   "language": "python",
   "name": "python3"
  },
  "language_info": {
   "codemirror_mode": {
    "name": "ipython",
    "version": 3
   },
   "file_extension": ".py",
   "mimetype": "text/x-python",
   "name": "python",
   "nbconvert_exporter": "python",
   "pygments_lexer": "ipython3",
   "version": "3.10.14"
  }
 },
 "nbformat": 4,
 "nbformat_minor": 2
}
