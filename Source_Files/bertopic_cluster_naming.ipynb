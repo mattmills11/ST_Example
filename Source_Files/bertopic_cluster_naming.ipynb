{
 "cells": [
  {
   "cell_type": "markdown",
   "metadata": {},
   "source": [
    "# Implementation of BERTopic for Cluster Renaming\n",
    "#### This notebook implements BERTopic to analyze, name, and visualize clusters."
   ]
  },
  {
   "cell_type": "markdown",
   "metadata": {},
   "source": [
    "# Cell 1: Setup and Import Libraries\n",
    "#### - This cell imports the necessary libraries, including pandas for data manipulation,\n",
    "####   datetime for handling dates, and BERTopic for topic modeling."
   ]
  },
  {
   "cell_type": "code",
   "execution_count": null,
   "metadata": {},
   "outputs": [],
   "source": [
    "import os\n",
    "import pandas as pd\n",
    "from bertopic import BERTopic\n",
    "from datetime import datetime\n",
    "import plotly.express as px\n",
    "\n",
    "# Set the GPU index\n",
    "os.environ[\"CUDA_VISIBLE_DEVICES\"] = \"1\""
   ]
  },
  {
   "cell_type": "markdown",
   "metadata": {},
   "source": [
    "# Cell 2: Load Environment Variables and File Paths\n",
    "#### - This cell sets the file paths for the input data, including the cluster data generated\n",
    "####   in previous steps, and reads the cluster data into a pandas DataFrame for further analysis.\n",
    "#### - The first few rows of the DataFrame are displayed to ensure the data is loaded correctly."
   ]
  },
  {
   "cell_type": "code",
   "execution_count": null,
   "metadata": {},
   "outputs": [],
   "source": [
    "# Define environment variables\n",
    "FILESPATH = \"/home/tulipan16372/storage_NAS/Misc/Dani_Amaya/sentence-transformers/\"\n",
    "CLUSTERS_DATAFRAME_NAME = \"updated_df_cluster.csv\"\n",
    "\n",
    "# Define current date for file naming\n",
    "current_date = datetime.now().strftime(\"%Y%m%d\")\n",
    "\n",
    "# Construct the file path with the date prefix\n",
    "df_cluster_path = os.path.join(FILESPATH, f\"{current_date}_{CLUSTERS_DATAFRAME_NAME}\")\n",
    "\n",
    "# Check if the file exists\n",
    "if not os.path.isfile(df_cluster_path):\n",
    "    raise FileNotFoundError(f\"Cluster data file {df_cluster_path} does not exist.\")\n",
    "\n",
    "# Load the cluster data\n",
    "df_cluster = pd.read_csv(df_cluster_path)\n",
    "\n",
    "# Display the first few rows of the dataframe to verify the data\n",
    "df_cluster.head()\n"
   ]
  },
  {
   "cell_type": "markdown",
   "metadata": {},
   "source": [
    "# Cell 3: Initialize BERTopic\n",
    "#### - Initializes the BERTopic model that will be used to identify topics within each cluster."
   ]
  },
  {
   "cell_type": "code",
   "execution_count": null,
   "metadata": {},
   "outputs": [],
   "source": [
    "topic_model = BERTopic()"
   ]
  },
  {
   "cell_type": "markdown",
   "metadata": {},
   "source": [
    "# Cell 4: Define Function to Analyze Topics in Clusters\n",
    "#### - This cell defines a function `analyze_cluster_topics()` that loops through each unique cluster,\n",
    "####   retrieves the documents associated with that cluster, and applies BERTopic to identify the topics.\n",
    "#### - The function stores the most representative topic for each cluster and assigns it as the cluster name."
   ]
  },
  {
   "cell_type": "code",
   "execution_count": null,
   "metadata": {},
   "outputs": [],
   "source": [
    "def analyze_cluster_topics(df_cluster, topic_model):\n",
    "    # Initialize a dictionary to store cluster names\n",
    "    cluster_names = {}\n",
    "    \n",
    "    # Loop through each unique cluster\n",
    "    for cluster_number in df_cluster['cluster'].unique():\n",
    "        print(f\"\\nAnalyzing Cluster {cluster_number}\")\n",
    "        \n",
    "        # Get the documents for this cluster\n",
    "        documents_in_cluster = df_cluster[df_cluster['cluster'] == cluster_number]['documents'].dropna().tolist()\n",
    "        \n",
    "        if len(documents_in_cluster) > 0:\n",
    "            # Apply BERTopic to identify topics\n",
    "            topics, probs = topic_model.fit_transform(documents_in_cluster)\n",
    "            \n",
    "            # Get the top topic for this cluster\n",
    "            topic_info = topic_model.get_topic_info()\n",
    "            top_topic = topic_info.iloc[1]['Name']  # Assuming top topic is at index 1 (index 0 may be for outliers)\n",
    "            \n",
    "            # Rename the cluster based on the top topic\n",
    "            cluster_names[cluster_number] = top_topic\n",
    "            print(f\"Top topic for Cluster {cluster_number}: {top_topic}\")\n",
    "        else:\n",
    "            cluster_names[cluster_number] = \"No Data\"\n",
    "    \n",
    "    return cluster_names"
   ]
  },
  {
   "cell_type": "markdown",
   "metadata": {},
   "source": [
    "# Cell 5: Apply BERTopic and Rename Clusters\n",
    "#### - This cell calls the function defined in Cell 4 to analyze the clusters.\n",
    "#### - The identified topics are mapped to their respective clusters, and the clusters are renamed in the DataFrame.\n",
    "#### - The updated DataFrame with cluster names is displayed for verification."
   ]
  },
  {
   "cell_type": "code",
   "execution_count": null,
   "metadata": {},
   "outputs": [],
   "source": [
    "# Analyze the clusters and assign names\n",
    "def analyze_cluster_topics(df_cluster, topic_model):\n",
    "    cluster_names = {}\n",
    "\n",
    "    # Get unique clusters\n",
    "    unique_clusters = df_cluster['cluster'].unique()\n",
    "    \n",
    "    for cluster_number in unique_clusters:\n",
    "        # Get the documents belonging to this cluster\n",
    "        documents_in_cluster = df_cluster[df_cluster['cluster'] == cluster_number]['documents'].dropna().tolist()\n",
    "\n",
    "        # Check if the cluster contains any documents\n",
    "        if len(documents_in_cluster) == 0:\n",
    "            print(f\"Cluster {cluster_number} is empty, skipping.\")\n",
    "            cluster_names[cluster_number] = f\"Cluster {cluster_number}\"  # Default name for empty clusters\n",
    "            continue\n",
    "\n",
    "        # Apply BERTopic to identify topics\n",
    "        try:\n",
    "            topics, probs = topic_model.fit_transform(documents_in_cluster)\n",
    "            # Get the top topic for this cluster\n",
    "            topic_info = topic_model.get_topic_info()\n",
    "\n",
    "            # Extract the name of the most frequent topic\n",
    "            if len(topic_info) > 0:\n",
    "                top_topic = topic_info.iloc[0]['Name']\n",
    "                cluster_names[cluster_number] = top_topic\n",
    "            else:\n",
    "                cluster_names[cluster_number] = f\"Unnamed Cluster {cluster_number}\"  # Fallback name\n",
    "\n",
    "        except ValueError as e:\n",
    "            print(f\"Error processing cluster {cluster_number}: {e}\")\n",
    "            cluster_names[cluster_number] = f\"Error Cluster {cluster_number}\"  # Error fallback name\n",
    "\n",
    "    return cluster_names\n",
    "\n",
    "# Analyze the clusters and assign names\n",
    "cluster_names = analyze_cluster_topics(df_cluster, topic_model)\n",
    "\n",
    "# Add a new column to the dataframe for the cluster names\n",
    "df_cluster['cluster_name'] = df_cluster['cluster'].map(cluster_names)\n",
    "\n",
    "# Display the updated dataframe with cluster names\n",
    "df_cluster.head()\n",
    "\n"
   ]
  },
  {
   "cell_type": "markdown",
   "metadata": {},
   "source": [
    "# Cell 6: Save the Updated DataFrame with Cluster Names\n",
    "#### - This cell saves the updated DataFrame, which includes the new cluster names, to a CSV file for future use.\n",
    "#### - The file path of the saved DataFrame is printed for confirmation."
   ]
  },
  {
   "cell_type": "code",
   "execution_count": null,
   "metadata": {},
   "outputs": [],
   "source": [
    "# Save the updated dataframe with cluster names\n",
    "updated_cluster_name_path = os.path.join(FILESPATH, f\"{current_date}_Matt_updated_cluster_names.csv\")\n",
    "df_cluster.to_csv(updated_cluster_name_path, index=False)\n",
    "\n",
    "# Confirm the file has been saved\n",
    "print(f\"Updated cluster names saved to {updated_cluster_name_path}\")\n"
   ]
  },
  {
   "cell_type": "markdown",
   "metadata": {},
   "source": [
    "# Cell 7: Visualize the Renamed Clusters with Plotly\n",
    "#### - This cell uses Plotly to create a dynamic 2D scatter plot of the UMAP-reduced embeddings.\n",
    "#### - Each point in the plot is colored according to its cluster name, and you can hover over the points\n",
    "####   to view the associated document and cluster name."
   ]
  },
  {
   "cell_type": "code",
   "execution_count": null,
   "metadata": {},
   "outputs": [],
   "source": [
    "# Create a scatter plot of the UMAP reduced embeddings with cluster names\n",
    "fig = px.scatter(\n",
    "    df_cluster, \n",
    "    x='umap_x', \n",
    "    y='umap_y', \n",
    "    color='cluster_name', \n",
    "    hover_data=['documents', 'cluster_name'],  # This allows you to hover over points to see their document and cluster name\n",
    "    title=\"Cluster Visualization with Renamed Clusters\"\n",
    ")\n",
    "\n",
    "# Update layout for better visualization\n",
    "fig.update_layout(\n",
    "    autosize=True,\n",
    "    height=800,\n",
    "    showlegend=True,\n",
    "    legend_title=\"Cluster Names\"\n",
    ")\n",
    "\n",
    "# Show the dynamic plot\n",
    "fig.show()\n"
   ]
  },
  {
   "cell_type": "markdown",
   "metadata": {},
   "source": [
    "# Cell 8: 3D Visualization (Optional)\n",
    "#### - If 3D UMAP projections are available, this cell creates a dynamic 3D scatter plot of the clusters.\n",
    "#### - Similar to the 2D plot, the points are colored by cluster name, and you can hover over them for more information.\n",
    "#### - If 3D projections are not available, a message is printed instead."
   ]
  },
  {
   "cell_type": "code",
   "execution_count": null,
   "metadata": {},
   "outputs": [],
   "source": [
    "# If you have 3D UMAP projections, you can create a 3D scatter plot\n",
    "if 'umap_z' in df_cluster.columns:\n",
    "    fig_3d = px.scatter_3d(\n",
    "        df_cluster, \n",
    "        x='umap_x', \n",
    "        y='umap_y', \n",
    "        z='umap_z',\n",
    "        color='cluster_name', \n",
    "        hover_data=['documents', 'cluster_name'], \n",
    "        title=\"3D Cluster Visualization with Renamed Clusters\"\n",
    "    )\n",
    "\n",
    "    # Update layout for better visualization\n",
    "    fig_3d.update_layout(\n",
    "        autosize=True,\n",
    "        height=800,\n",
    "        showlegend=True,\n",
    "        legend_title=\"Cluster Names\"\n",
    "    )\n",
    "\n",
    "    # Show the 3D dynamic plot\n",
    "    fig_3d.show()\n",
    "else:\n",
    "    print(\"3D UMAP projections not available.\")\n"
   ]
  }
 ],
 "metadata": {
  "language_info": {
   "name": "python"
  }
 },
 "nbformat": 4,
 "nbformat_minor": 2
}
